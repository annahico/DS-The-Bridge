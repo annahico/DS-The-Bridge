{
 "cells": [
  {
   "cell_type": "markdown",
   "id": "1f1401c1-4dc9-4902-95bf-160715a42a25",
   "metadata": {},
   "source": [
    "# Prueba de Ramp-up"
   ]
  },
  {
   "cell_type": "markdown",
   "id": "1b34c670-a6dd-482d-9b04-5babee7be17a",
   "metadata": {},
   "source": [
    "Antes de comenzar, cambia el nombre del archivo notebook poniéndole delante tu nombre y primer apellido:\n",
    "\n",
    "* ``<nombre_apellido>_examen_online.ipynb``"
   ]
  },
  {
   "cell_type": "code",
   "execution_count": 1,
   "id": "c8d9a657-272c-425a-9ac4-ea59f479673c",
   "metadata": {},
   "outputs": [],
   "source": [
    "# Escribe tu nombre en la variable:\n",
    "nombre_y_apellidos = \"Anna_Hidalgo_Costa\" "
   ]
  },
  {
   "cell_type": "code",
   "execution_count": 2,
   "id": "2e9f9af5-076c-44ec-9a80-95c0e99cdc58",
   "metadata": {},
   "outputs": [],
   "source": [
    "\"\"\"\n",
    "Criterios de corrección:\n",
    "\n",
    "ejecución (ausencia de errores y obtención de resultados)\n",
    "estructura del código\n",
    "uso correcto de variables\n",
    "manejo de tipo de variables\n",
    "asignaciones\n",
    "operaciones booleanas\n",
    "manejo lógico de flujos de control y bucles\n",
    "uso de colecciones\n",
    "uso de funciones\n",
    "\"\"\";\n",
    "\n",
    "# Ejemplo de como queremos ver el código para más de un intento:\n",
    "\n",
    "# intento 1\n",
    "#your code\n",
    "\n",
    "# intento 2\n",
    "#your code"
   ]
  },
  {
   "cell_type": "code",
   "execution_count": 3,
   "id": "bb16d0e3-3bb9-4f2b-944e-8fc35e628701",
   "metadata": {},
   "outputs": [],
   "source": [
    "# crea todas las celdas que necesites"
   ]
  },
  {
   "cell_type": "markdown",
   "id": "9e02b8f5-6f66-4e73-acfa-7f8c3977de2a",
   "metadata": {},
   "source": [
    "#### Notas y pruebas de apoyo para contestar las preguntas\n",
    "\n",
    "\n",
    "Cualquier código aunque no esté correcto nos dirá más de ti que no escribir nada. "
   ]
  },
  {
   "cell_type": "markdown",
   "id": "57d6b062-27f8-4377-b583-d662777b0bd7",
   "metadata": {},
   "source": [
    "__Debes subir este notebook a tu REPO PERSONAL__\n",
    "\n",
    "__Hora: hasta las 13:30 del 06/11/2024__"
   ]
  },
  {
   "cell_type": "markdown",
   "id": "062d81e8",
   "metadata": {},
   "source": [
    "#### Ejercicio 1\n",
    "\n",
    "Disponemos de una lista con información sobre varios empleados:\n",
    "\n",
    "    empleados = \n",
    "    [[12345, \"Juan Rodríguez\", 53, [\"Director financiero\"], 2],[56789, \"Laura Pérez\", 41, [\"CEO\", \"Director\", \"Gerente\"], 2],[88354, \"Pedro Álvarez\", 26, [\"Asistente\",\"Gestor comercial\"], 3]]\n",
    "\n",
    "Respecto de cada empleado, la lista contiene cinco elementos: en el primero almacenamos su tfno, en el segundo su nombre, en el tercero su edad, en el cuarto los puestos que ha desempeñado en la empresa (en forma de lista) y en el quinto su código postal.\n",
    "\n",
    "1. Siguiendo la misma estructura, incluye un nuevo empleado en la última posición de la lista empleados.\n",
    "\n",
    "2. Mostrar por pantalla, sin uso de funciones (salvo print) ni bucles: \n",
    "\n",
    "    - El nombre y la edad del tercer empleado de la lista empleados.\n",
    "    - Los puestos desempeñados por Pedro Álvarez, ordenados de atras a adelante (es decir, de Gestor comercial a Asistente)\n",
    "    - Si el nuevo empleado que has añadido tiene más o igual a 60 años, muestra por pantalla los puestos que el nuevo empleado haya desempeñado en la empresa. En caso contrario, muestra los puestos desempeñados por Laura Pérez y Juan Rodriguez."
   ]
  },
  {
   "cell_type": "code",
   "execution_count": null,
   "id": "ae316b4b",
   "metadata": {},
   "outputs": [
    {
     "name": "stdout",
     "output_type": "stream",
     "text": [
      "Pedro Álvarez 26\n",
      "['Gestor comercial', 'Asistente']\n",
      "['Analista', 'Supervisor']\n"
     ]
    }
   ],
   "source": [
    "# Lista inicial de empleados\n",
    "empleados = [\n",
    "    [12345, \"Juan Rodríguez\", 53, [\"Director financiero\"], 2],\n",
    "    [56789, \"Laura Pérez\", 41, [\"CEO\", \"Director\", \"Gerente\"], 2],\n",
    "    [88354, \"Pedro Álvarez\", 26, [\"Asistente\", \"Gestor comercial\"], 3]\n",
    "]\n",
    "\n",
    "# 1. Agregar un nuevo empleado al final de la lista\n",
    "nuevo_empleado = [98765, \"Ana Martínez\", 62, [\"Analista\", \"Supervisor\"], 4]\n",
    "empleados.append(nuevo_empleado)\n",
    "\n",
    "# 2. Mostrar los datos solicitados\n",
    "\n",
    "# El nombre y la edad del tercer empleado de la lista empleados\n",
    "print(empleados[2][1], empleados[2][2])\n",
    "\n",
    "# Los puestos desempeñados por Pedro Álvarez en orden inverso\n",
    "print(empleados[2][3][::-1])\n",
    "\n",
    "# Si el nuevo empleado tiene 60 años o más, mostrar sus puestos; en caso contrario, mostrar los puestos de Laura Pérez y Juan Rodríguez\n",
    "if empleados[-1][2] >= 60:\n",
    "    print(empleados[-1][3])\n",
    "else:\n",
    "    print(empleados[0][3], empleados[1][3])\n"
   ]
  },
  {
   "cell_type": "markdown",
   "id": "4da89624-0da3-4f91-aa5c-a084c5ee1b17",
   "metadata": {},
   "source": [
    "#### Ejercicio 2. \n",
    "\n",
    "Escribe un programa que te diga si una letra es una consonante o una vocal. Crea tu propia **FUNCIÓN**\n"
   ]
  },
  {
   "cell_type": "code",
   "execution_count": 2,
   "id": "c58bf610-92de-4a5a-a00d-652279ea33dd",
   "metadata": {},
   "outputs": [
    {
     "name": "stdout",
     "output_type": "stream",
     "text": [
      "Es una vocal.\n"
     ]
    }
   ],
   "source": [
    "def tipo_letra(letra):\n",
    "    # Convertimos la letra a minúscula para facilitar la comparación\n",
    "    letra = letra.lower()\n",
    "    # Verificamos si la letra es una vocal\n",
    "    if letra in 'aeiou':\n",
    "        return \"Es una vocal.\"\n",
    "    # Verificamos si es una letra (consonante) del alfabeto\n",
    "    elif letra.isalpha():\n",
    "        return \"Es una consonante.\"\n",
    "    else:\n",
    "        return \"El carácter ingresado no es una letra.\"\n",
    "\n",
    "# Ejemplo de uso\n",
    "letra = input(\"Introduce una letra: \")\n",
    "print(tipo_letra(letra))\n"
   ]
  },
  {
   "cell_type": "markdown",
   "id": "52065a6c-3d4c-44c0-a10b-958506c481b3",
   "metadata": {},
   "source": [
    "#### Ejercicio 3. \n",
    "\n",
    "Escribe un programa que calcule la edad humana de un perro.\n",
    "Tienes que pedirle al usuario la edad del perro en años.\n",
    "Si el usuario introduce un número negativo, imprime que la cifra facilitada no tiene sentido. Si el perro tiene un año, son 14 años humanos. Si tiene 2 años, son 22 años humanos.\n",
    "A partir de los 2 años, el cálculo es el siguiente: a la edad del perro se le restan 2 años, el resultado se multiplica por 5 y, finalmente, se le suma 22.\n",
    "Usa una función sin argumentos de entrada ni de salida (muestra toda la información con print())"
   ]
  },
  {
   "cell_type": "code",
   "execution_count": 3,
   "id": "9c59c801-1fe1-4a6d-a000-f85ca738ed00",
   "metadata": {},
   "outputs": [
    {
     "name": "stdout",
     "output_type": "stream",
     "text": [
      "La edad del perro en años humanos es: 37 años.\n"
     ]
    }
   ],
   "source": [
    "def calcular_edad_humana_perro():\n",
    "    # Pedimos al usuario la edad del perro en años\n",
    "    edad_perro = int(input(\"Introduce la edad del perro en años: \"))\n",
    "    \n",
    "    # Validamos si la edad es negativa\n",
    "    if edad_perro < 0:\n",
    "        print(\"La cifra facilitada no tiene sentido.\")\n",
    "    elif edad_perro == 1:\n",
    "        print(\"La edad del perro en años humanos es: 14 años.\")\n",
    "    elif edad_perro == 2:\n",
    "        print(\"La edad del perro en años humanos es: 22 años.\")\n",
    "    else:\n",
    "        # Cálculo para perros mayores de 2 años\n",
    "        edad_humana = (edad_perro - 2) * 5 + 22\n",
    "        print(f\"La edad del perro en años humanos es: {edad_humana} años.\")\n",
    "\n",
    "# Llamada a la función\n",
    "calcular_edad_humana_perro()\n"
   ]
  },
  {
   "cell_type": "markdown",
   "id": "2991309f-4208-431a-900c-d9bc734bb936",
   "metadata": {},
   "source": [
    "#### Ejercicio 4. \n",
    "\n",
    "Escribe un programa que te diga si una frase es un pangrama. Un pangrama es una frase que contiene todas las letras del alfabeto.\n",
    "Puedes tener espacios en blanco, pero NO  tendrás signos de puntuación, a excepción de las tildes.\n",
    "\n",
    "Ejemplo de pangrama:\n",
    "\n",
    "Extraño pan de col y kiwi se quemó bajo fugaz vaho "
   ]
  },
  {
   "cell_type": "code",
   "execution_count": 4,
   "id": "9a349c1e-15ab-4253-97f8-2a07a263791d",
   "metadata": {},
   "outputs": [
    {
     "name": "stdout",
     "output_type": "stream",
     "text": [
      "La frase NO es un pangrama.\n"
     ]
    }
   ],
   "source": [
    "def es_pangrama():\n",
    "    # Pedimos al usuario que introduzca una frase\n",
    "    frase = input(\"Introduce una frase: \").lower()\n",
    "    \n",
    "    # Conjunto de letras del alfabeto en español\n",
    "    alfabeto = set(\"abcdefghijklmnñopqrstuvwxyz\")\n",
    "    \n",
    "    # Convertimos la frase en un conjunto de letras, ignorando espacios y tildes\n",
    "    letras_en_frase = {letra for letra in frase if letra.isalpha()}\n",
    "    \n",
    "    # Comprobamos si el conjunto de letras en la frase incluye todas las letras del alfabeto\n",
    "    if alfabeto.issubset(letras_en_frase):\n",
    "        print(\"La frase es un pangrama.\")\n",
    "    else:\n",
    "        print(\"La frase NO es un pangrama.\")\n",
    "\n",
    "# Llamada a la función\n",
    "es_pangrama()\n"
   ]
  },
  {
   "cell_type": "markdown",
   "id": "3dbb76e0-79b2-45e8-9034-58ee9cbd82bb",
   "metadata": {},
   "source": [
    "#### Ejercicio 5. \n",
    "\n",
    "Escribe un programa que use diccionarios para traducir palabras entre varios idiomas.\n",
    "Deberás pedirle al usuario una palabra por teclado, ver si está en tu diccionario. En caso de que esté, deberás mostrar la traducción de esa palabra.\n",
    "\n",
    "Ejemplo de diccionario:\n",
    "\n",
    "```python\n",
    "{\"file\": \"Fichier\", \"new\": \"Nouveau\", \"open\": \"Ouvrir\", \"save\": \"Enregistrer\", \"save as\": \"Enregistrer sous\", \"print preview\": \"Apercu avant impressioner\", \"print\": \"Imprimer\", \"close\": \"Fermer\", \"exit\": \"Quitter\"}\n"
   ]
  },
  {
   "cell_type": "code",
   "execution_count": 6,
   "id": "88236123-e8ac-45da-87d0-134a88a690c1",
   "metadata": {},
   "outputs": [
    {
     "name": "stdout",
     "output_type": "stream",
     "text": [
      "La palabra no se encuentra en el diccionario.\n"
     ]
    }
   ],
   "source": [
    "def traducir_palabra():\n",
    "    # Diccionario de palabras en inglés y sus traducciones al francés\n",
    "    diccionario = {\n",
    "        \"file\": \"Fichier\",\n",
    "        \"new\": \"Nouveau\",\n",
    "        \"open\": \"Ouvrir\",\n",
    "        \"save\": \"Enregistrer\",\n",
    "        \"save as\": \"Enregistrer sous\",\n",
    "        \"print preview\": \"Aperçu avant impression\",\n",
    "        \"print\": \"Imprimer\",\n",
    "        \"close\": \"Fermer\",\n",
    "        \"exit\": \"Quitter\"\n",
    "    }\n",
    "    \n",
    "    # Pedimos al usuario una palabra en inglés\n",
    "    palabra = input(\"Introduce una palabra en inglés: \").lower()\n",
    "    \n",
    "    # Comprobamos si la palabra está en el diccionario y mostramos la traducción\n",
    "    if palabra in diccionario:\n",
    "        print(f\"La traducción de '{palabra}' es: '{diccionario[palabra]}'\")\n",
    "    else:\n",
    "        print(\"La palabra no se encuentra en el diccionario.\")\n",
    "\n",
    "# Llamada a la función\n",
    "traducir_palabra()\n"
   ]
  },
  {
   "cell_type": "markdown",
   "id": "61967ca4-7e06-44b3-ad7b-adbc0e71671a",
   "metadata": {},
   "source": [
    "#### Ejercicio 6. (Bonus).\n",
    "\n",
    "Usando `OOP` modela un theremin (es un instrumento musical que se toca modificando el campo electromagnético, por si tenías curiosidad).\n",
    "Tendrá de atributos la marca, el modelo, el peso, la potencia y la batería.\n",
    "\n",
    "Todos los instrumentos se crean con un peso predeterminado de 500, una potencia de 50 y una batería de 200.\n",
    "\n",
    "Cuando se recarga la batería vale 200.\n",
    "\n",
    "Cuando se toca, se muestra por pantalla que está sonando y la batería disminuye 10 (no siendo nunca negativo).\n",
    "Si no hay batería, no puede sonar. Crea un instrumento, tócalo mientras quede batería, cárgalo y no lo vuelvas a tocar.\n"
   ]
  },
  {
   "cell_type": "code",
   "execution_count": 7,
   "id": "8082c8cd-03a9-478e-aa72-4ec1306e1bb2",
   "metadata": {},
   "outputs": [
    {
     "name": "stdout",
     "output_type": "stream",
     "text": [
      "El theremin está sonando 🎶\n",
      "Batería restante: 190\n",
      "El theremin está sonando 🎶\n",
      "Batería restante: 180\n",
      "El theremin está sonando 🎶\n",
      "Batería restante: 170\n",
      "El theremin está sonando 🎶\n",
      "Batería restante: 160\n",
      "El theremin está sonando 🎶\n",
      "Batería restante: 150\n",
      "El theremin está sonando 🎶\n",
      "Batería restante: 140\n",
      "El theremin está sonando 🎶\n",
      "Batería restante: 130\n",
      "El theremin está sonando 🎶\n",
      "Batería restante: 120\n",
      "El theremin está sonando 🎶\n",
      "Batería restante: 110\n",
      "El theremin está sonando 🎶\n",
      "Batería restante: 100\n",
      "El theremin está sonando 🎶\n",
      "Batería restante: 90\n",
      "El theremin está sonando 🎶\n",
      "Batería restante: 80\n",
      "El theremin está sonando 🎶\n",
      "Batería restante: 70\n",
      "El theremin está sonando 🎶\n",
      "Batería restante: 60\n",
      "El theremin está sonando 🎶\n",
      "Batería restante: 50\n",
      "El theremin está sonando 🎶\n",
      "Batería restante: 40\n",
      "El theremin está sonando 🎶\n",
      "Batería restante: 30\n",
      "El theremin está sonando 🎶\n",
      "Batería restante: 20\n",
      "El theremin está sonando 🎶\n",
      "Batería restante: 10\n",
      "El theremin está sonando 🎶\n",
      "Batería restante: 0\n",
      "La batería se ha recargado completamente.\n",
      "No volvemos a tocar el theremin después de recargar la batería.\n"
     ]
    }
   ],
   "source": [
    "class Theremin:\n",
    "    def __init__(self, marca, modelo):\n",
    "        # Atributos de instancia\n",
    "        self.marca = marca\n",
    "        self.modelo = modelo\n",
    "        self.peso = 500       # Peso predeterminado\n",
    "        self.potencia = 50    # Potencia predeterminada\n",
    "        self.bateria = 200    # Batería predeterminada\n",
    "    \n",
    "    def tocar(self):\n",
    "        # Verificamos si hay batería\n",
    "        if self.bateria > 0:\n",
    "            print(\"El theremin está sonando 🎶\")\n",
    "            self.bateria -= 10\n",
    "            if self.bateria < 0:\n",
    "                self.bateria = 0\n",
    "            print(f\"Batería restante: {self.bateria}\")\n",
    "        else:\n",
    "            print(\"No hay suficiente batería para tocar el theremin.\")\n",
    "    \n",
    "    def recargar_bateria(self):\n",
    "        # Restablecemos la batería a su valor completo\n",
    "        self.bateria = 200\n",
    "        print(\"La batería se ha recargado completamente.\")\n",
    "\n",
    "# Crear una instancia del theremin\n",
    "mi_theremin = Theremin(\"Moog\", \"Etherwave\")\n",
    "\n",
    "# Tocar el theremin hasta que la batería se agote\n",
    "while mi_theremin.bateria > 0:\n",
    "    mi_theremin.tocar()\n",
    "\n",
    "# Recargar la batería\n",
    "mi_theremin.recargar_bateria()\n",
    "\n",
    "# Intentar tocar después de recargar (pero sin hacerlo realmente)\n",
    "print(\"No volvemos a tocar el theremin después de recargar la batería.\")\n"
   ]
  },
  {
   "cell_type": "markdown",
   "id": "30f773b5-a6da-4446-b36b-722b2ee57730",
   "metadata": {},
   "source": [
    "#### Ejercicio 7. Extra (NO PUNTÚA).\n",
    "Una empresa usa dos listas  para guardar la información de sus empleados. Una lista guarda el nombre del empleado y la otra guarda su salario. Escribe un programa que cree esas dos listas originalmente vacías y que a través de un menú pueda hacer lo siguiente:\n",
    "    \n",
    "Inserta 1 para añadir un nuevo empleado y su salario\n",
    "\n",
    "Inserta 2 para imprimir los nombres y salarios de todos los empleados\n",
    "\n",
    "Inserta 3 para mostrar el número de empleados\n",
    "\n",
    "Inserta 4 para imprimir los nombres de los empleados con sueldos superiores a 400000\n",
    "\n",
    "Inserta 5 para subir un 5% los sueldos por debajo de 10000\n",
    "\n",
    "Inserta 6 para mostrar el total de todos los salarios\n",
    "\n",
    "Inserta 7 para salir del programa"
   ]
  },
  {
   "cell_type": "code",
   "execution_count": 9,
   "id": "67858e27-b7f5-4e05-bc50-3fca698ad22a",
   "metadata": {},
   "outputs": [
    {
     "name": "stdout",
     "output_type": "stream",
     "text": [
      "\n",
      "Menú:\n",
      "1. Añadir un nuevo empleado y su salario\n",
      "2. Imprimir nombres y salarios de todos los empleados\n",
      "3. Mostrar el número de empleados\n",
      "4. Imprimir nombres de empleados con sueldos superiores a 400000\n",
      "5. Subir un 5% los sueldos por debajo de 10000\n",
      "6. Mostrar el total de todos los salarios\n",
      "7. Salir\n"
     ]
    },
    {
     "ename": "ValueError",
     "evalue": "invalid literal for int() with base 10: 'hola '",
     "output_type": "error",
     "traceback": [
      "\u001b[1;31m---------------------------------------------------------------------------\u001b[0m",
      "\u001b[1;31mValueError\u001b[0m                                Traceback (most recent call last)",
      "Cell \u001b[1;32mIn[9], line 56\u001b[0m\n\u001b[0;32m     53\u001b[0m             \u001b[38;5;28mprint\u001b[39m(\u001b[38;5;124m\"\u001b[39m\u001b[38;5;124mOpción no válida. Por favor, elige una opción entre 1 y 7.\u001b[39m\u001b[38;5;124m\"\u001b[39m)\n\u001b[0;32m     55\u001b[0m \u001b[38;5;66;03m# Ejecutar el menú\u001b[39;00m\n\u001b[1;32m---> 56\u001b[0m \u001b[43mmenu\u001b[49m\u001b[43m(\u001b[49m\u001b[43m)\u001b[49m\n",
      "Cell \u001b[1;32mIn[9], line 15\u001b[0m, in \u001b[0;36mmenu\u001b[1;34m()\u001b[0m\n\u001b[0;32m     12\u001b[0m \u001b[38;5;28mprint\u001b[39m(\u001b[38;5;124m\"\u001b[39m\u001b[38;5;124m6. Mostrar el total de todos los salarios\u001b[39m\u001b[38;5;124m\"\u001b[39m)\n\u001b[0;32m     13\u001b[0m \u001b[38;5;28mprint\u001b[39m(\u001b[38;5;124m\"\u001b[39m\u001b[38;5;124m7. Salir\u001b[39m\u001b[38;5;124m\"\u001b[39m)\n\u001b[1;32m---> 15\u001b[0m opcion \u001b[38;5;241m=\u001b[39m \u001b[38;5;28;43mint\u001b[39;49m\u001b[43m(\u001b[49m\u001b[38;5;28;43minput\u001b[39;49m\u001b[43m(\u001b[49m\u001b[38;5;124;43m\"\u001b[39;49m\u001b[38;5;124;43mSelecciona una opción: \u001b[39;49m\u001b[38;5;124;43m\"\u001b[39;49m\u001b[43m)\u001b[49m\u001b[43m)\u001b[49m\n\u001b[0;32m     17\u001b[0m \u001b[38;5;28;01mif\u001b[39;00m opcion \u001b[38;5;241m==\u001b[39m \u001b[38;5;241m1\u001b[39m:\n\u001b[0;32m     18\u001b[0m     nombre \u001b[38;5;241m=\u001b[39m \u001b[38;5;28minput\u001b[39m(\u001b[38;5;124m\"\u001b[39m\u001b[38;5;124mIntroduce el nombre del empleado: \u001b[39m\u001b[38;5;124m\"\u001b[39m)\n",
      "\u001b[1;31mValueError\u001b[0m: invalid literal for int() with base 10: 'hola '"
     ]
    }
   ],
   "source": [
    "def menu():\n",
    "    nombres = []\n",
    "    salarios = []\n",
    "    \n",
    "    while True:\n",
    "        print(\"\\nMenú:\")\n",
    "        print(\"1. Añadir un nuevo empleado y su salario\")\n",
    "        print(\"2. Imprimir nombres y salarios de todos los empleados\")\n",
    "        print(\"3. Mostrar el número de empleados\")\n",
    "        print(\"4. Imprimir nombres de empleados con sueldos superiores a 400000\")\n",
    "        print(\"5. Subir un 5% los sueldos por debajo de 10000\")\n",
    "        print(\"6. Mostrar el total de todos los salarios\")\n",
    "        print(\"7. Salir\")\n",
    "        \n",
    "        opcion = int(input(\"Selecciona una opción: \"))\n",
    "        \n",
    "        if opcion == 1:\n",
    "            nombre = input(\"Introduce el nombre del empleado: \")\n",
    "            salario = float(input(\"Introduce el salario del empleado: \"))\n",
    "            nombres.append(nombre)\n",
    "            salarios.append(salario)\n",
    "            print(\"Empleado añadido correctamente.\")\n",
    "        \n",
    "        elif opcion == 2:\n",
    "            print(\"\\nLista de empleados y sus salarios:\")\n",
    "            for nombre, salario in zip(nombres, salarios):\n",
    "                print(f\"Nombre: {nombre}, Salario: {salario}\")\n",
    "        \n",
    "        elif opcion == 3:\n",
    "            print(f\"El número de empleados es: {len(nombres)}\")\n",
    "        \n",
    "        elif opcion == 4:\n",
    "            print(\"\\nEmpleados con salarios superiores a 400000:\")\n",
    "            for nombre, salario in zip(nombres, salarios):\n",
    "                if salario > 400000:\n",
    "                    print(f\"Nombre: {nombre}, Salario: {salario}\")\n",
    "        \n",
    "        elif opcion == 5:\n",
    "            for i in range(len(salarios)):\n",
    "                if salarios[i] < 10000:\n",
    "                    salarios[i] *= 1.05  # Incrementa en un 5%\n",
    "            print(\"Salarios actualizados para empleados con salarios por debajo de 10000.\")\n",
    "        \n",
    "        elif opcion == 6:\n",
    "            total_salarios = sum(salarios)\n",
    "            print(f\"El total de todos los salarios es: {total_salarios}\")\n",
    "        \n",
    "        elif opcion == 7:\n",
    "            print(\"Saliendo del programa.\")\n",
    "            break\n",
    "        \n",
    "        else:\n",
    "            print(\"Opción no válida. Por favor, elige una opción entre 1 y 7.\")\n",
    "\n",
    "# Ejecutar el menú\n",
    "menu()\n"
   ]
  },
  {
   "cell_type": "markdown",
   "id": "e33a0e21-476e-4103-b889-a6b3e76b99f3",
   "metadata": {},
   "source": [
    "\n",
    "####  Ejercicio 8. EXTRA (NO PUNTÚA).\n",
    "\n",
    "Escribe un programa que __USE RECURSIVIDAD__ para decidir cuál es la película de Pixar favorita de un usuario.\n",
    "El programa preguntará al usuario cuál de 2 películas es su favorita, y con esa favorita se le volverá a preguntar entre esa y otra película cuál es su favorita...y así hasta que el usuario haya decidido de entre todas cuál es su favorita.\n",
    "\n",
    "Pista: si no quieres cambiar una lista, usa copy() y tendrás una copia que es otro objeto\n",
    "\n"
   ]
  },
  {
   "cell_type": "code",
   "execution_count": 10,
   "id": "c9936fd4-6d29-4535-9f34-a6f289d18d8b",
   "metadata": {},
   "outputs": [
    {
     "name": "stdout",
     "output_type": "stream",
     "text": [
      "\n",
      "¿Cuál prefieres entre 'Toy Story' y 'Monsters, Inc.'?\n",
      "\n",
      "¿Cuál prefieres entre 'Monsters, Inc.' y 'Buscando a Nemo'?\n",
      "\n",
      "¿Cuál prefieres entre 'Monsters, Inc.' y 'Los Increíbles'?\n",
      "\n",
      "¿Cuál prefieres entre 'Monsters, Inc.' y 'Ratatouille'?\n",
      "\n",
      "¿Cuál prefieres entre 'Monsters, Inc.' y 'WALL-E'?\n",
      "\n",
      "¿Cuál prefieres entre 'WALL-E' y 'Up'?\n",
      "\n",
      "¿Cuál prefieres entre 'Up' y 'Toy Story 3'?\n",
      "\n",
      "¿Cuál prefieres entre 'Toy Story 3' y 'Brave'?\n",
      "\n",
      "¿Cuál prefieres entre 'Brave' y 'Intensa-Mente'?\n",
      "\n",
      "¿Cuál prefieres entre 'Intensa-Mente' y 'Coco'?\n",
      "\n",
      "¿Cuál prefieres entre 'Intensa-Mente' y 'Soul'?\n",
      "\n",
      "¿Cuál prefieres entre 'Intensa-Mente' y 'Luca'?\n",
      "\n",
      "Tu película favorita de Pixar es: Intensa-Mente\n"
     ]
    },
    {
     "data": {
      "text/plain": [
       "'Intensa-Mente'"
      ]
     },
     "execution_count": 10,
     "metadata": {},
     "output_type": "execute_result"
    }
   ],
   "source": [
    "def elegir_favorita(peliculas):\n",
    "    # Caso base: si solo queda una película, es la favorita\n",
    "    if len(peliculas) == 1:\n",
    "        print(f\"\\nTu película favorita de Pixar es: {peliculas[0]}\")\n",
    "        return peliculas[0]\n",
    "\n",
    "    # Seleccionar las dos primeras películas para comparar\n",
    "    pelicula1 = peliculas[0]\n",
    "    pelicula2 = peliculas[1]\n",
    "    \n",
    "    # Preguntar al usuario cuál de las dos prefiere\n",
    "    print(f\"\\n¿Cuál prefieres entre '{pelicula1}' y '{pelicula2}'?\")\n",
    "    eleccion = input(f\"Escribe 1 para '{pelicula1}' o 2 para '{pelicula2}': \")\n",
    "    \n",
    "    # Validar la entrada del usuario\n",
    "    if eleccion == '1':\n",
    "        peliculas.pop(1)  # Eliminar la segunda película de la lista\n",
    "    elif eleccion == '2':\n",
    "        peliculas.pop(0)  # Eliminar la primera película de la lista\n",
    "    else:\n",
    "        print(\"Opción no válida. Intenta de nuevo.\")\n",
    "        return elegir_favorita(peliculas)  # Volver a preguntar si la elección no es válida\n",
    "\n",
    "    # Llamada recursiva con la lista actualizada\n",
    "    return elegir_favorita(peliculas)\n",
    "\n",
    "# Lista de películas de Pixar\n",
    "peliculas_pixar = [\n",
    "    \"Toy Story\", \"Monsters, Inc.\", \"Buscando a Nemo\", \"Los Increíbles\", \n",
    "    \"Ratatouille\", \"WALL-E\", \"Up\", \"Toy Story 3\", \"Brave\", \"Intensa-Mente\",\n",
    "    \"Coco\", \"Soul\", \"Luca\"\n",
    "]\n",
    "\n",
    "# Llamada inicial a la función con una copia de la lista\n",
    "elegir_favorita(peliculas_pixar.copy())\n"
   ]
  },
  {
   "cell_type": "code",
   "execution_count": 1,
   "id": "10a7b881",
   "metadata": {},
   "outputs": [],
   "source": [
    "# FIN DEL EXAMEN"
   ]
  }
 ],
 "metadata": {
  "kernelspec": {
   "display_name": "Python 3 (ipykernel)",
   "language": "python",
   "name": "python3"
  },
  "language_info": {
   "codemirror_mode": {
    "name": "ipython",
    "version": 3
   },
   "file_extension": ".py",
   "mimetype": "text/x-python",
   "name": "python",
   "nbconvert_exporter": "python",
   "pygments_lexer": "ipython3",
   "version": "3.10.undefined"
  },
  "vscode": {
   "interpreter": {
    "hash": "252189e587d1e2aeba4a06e91fa71896c7a7f6e22e918b9407c7cde4ef2d5985"
   }
  }
 },
 "nbformat": 4,
 "nbformat_minor": 5
}
